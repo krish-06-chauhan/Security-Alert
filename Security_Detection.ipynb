{
 "cells": [
  {
   "cell_type": "code",
   "execution_count": 1,
   "metadata": {},
   "outputs": [],
   "source": [
    "import torch\n",
    "import numpy as np\n",
    "import cv2 as cv\n",
    "from time import time\n",
    "from ultralytics import YOLO\n",
    "import supervision as sv\n",
    "import smtplib \n",
    "from email.mime.multipart import MIMEMultipart\n",
    "from email.mime.text import MIMEText\n",
    "from email_settings import password, from_email, to_email"
   ]
  },
  {
   "cell_type": "code",
   "execution_count": 5,
   "metadata": {},
   "outputs": [
    {
     "name": "stdout",
     "output_type": "stream",
     "text": [
      "loading Roboflow workspace...\n",
      "loading Roboflow project...\n",
      "Dependency ultralytics==8.0.196 is required but found version=8.1.14, to fix: `pip install ultralytics==8.0.196`\n"
     ]
    },
    {
     "data": {
      "text/plain": [
       "<roboflow.core.dataset.Dataset at 0x2516ad6db80>"
      ]
     },
     "execution_count": 5,
     "metadata": {},
     "output_type": "execute_result"
    }
   ],
   "source": [
    "from roboflow import Roboflow\n",
    "rf = Roboflow(api_key=\"Your_Api_Key\")\n",
    "project = rf.workspace(\"uniform-fhonp\").project(\"face-detection-quvrj\")\n",
    "version = project.version(1)\n",
    "dataset = version.download(\"yolov8\")\n",
    "dataset"
   ]
  },
  {
   "cell_type": "code",
   "execution_count": 6,
   "metadata": {},
   "outputs": [
    {
     "data": {
      "text/plain": [
       "<roboflow.core.dataset.Dataset at 0x2516ad6db80>"
      ]
     },
     "execution_count": 6,
     "metadata": {},
     "output_type": "execute_result"
    }
   ],
   "source": [
    "dataset"
   ]
  },
  {
   "cell_type": "code",
   "execution_count": null,
   "metadata": {},
   "outputs": [],
   "source": [
    "class ObjectDetection:\n",
    "    def __init__(self, capture_index):\n",
    "        self.capture_index = capture_index\n",
    "        self.email_sent = False\n",
    "        self.device = 'cuda' if torch.cuda.is_available() else 'cpu'\n",
    "        print(\"Using Device:\", self.device)\n",
    "        self.model = self.load_model()\n",
    "        self.box_annotator = sv.BoxAnnotator(color=sv.ColorPalette.default(), thickness=3, text_thickness=3, text_scale=3)\n",
    "    \n",
    "    def load_model(self):\n",
    "        # model = YOLO(\"yolov8m.pt\")\n",
    "        dataset.fuse()\n",
    "        return dataset\n",
    "    \n",
    "    def predict(self, frame):\n",
    "        results = self.model(frame)\n",
    "        return results\n",
    "    \n",
    "    def plot_bboxes(self, results, frame):\n",
    "        xyxys = []\n",
    "        confidences = []\n",
    "        class_ids = []\n",
    "\n",
    "        for result in results[0]:\n",
    "            class_id = result.boxes.cls.cpu().numpy().astype(int)\n",
    "\n",
    "            if class_id == 0:\n",
    "                xyxys.append(result.boxes.xyxy.cpu().numpy())\n",
    "                confidences.append(result.boxes.conf.cpu().numpy())\n",
    "                class_ids.append(result.boxes.cls.cpu().numpy().astype(int))\n",
    "\n",
    "        detections = sv.Detections.from_ultralytics(results[0])\n",
    "        frame = self.box_annotator.annotate(scene=frame, detections=detections)\n",
    "\n",
    "        return frame, class_ids\n",
    "    \n",
    "    def send_email(self, people_detected):\n",
    "        message = MIMEMultipart()\n",
    "        message['From'] = from_email\n",
    "        message['To'] = to_email\n",
    "        message['Subject'] = \"Security Alert\"\n",
    "\n",
    "        message.attach(MIMEText(f'Alert - {people_detected} Person has been detected!!', 'plain'))\n",
    "        \n",
    "        with smtplib.SMTP('smtp.gmail.com: 587') as server:\n",
    "            server.starttls()\n",
    "            server.login(from_email, password)\n",
    "            server.sendmail(from_email, to_email, message.as_string())\n",
    "\n",
    "    def process_frame(self, frame):\n",
    "        results = self.predict(frame)\n",
    "        frame, class_ids = self.plot_bboxes(results, frame)\n",
    "\n",
    "        if len(class_ids) > 0:\n",
    "            if not self.email_sent:\n",
    "                self.send_email(len(class_ids))\n",
    "                self.email_sent = True\n",
    "        else:\n",
    "            self.email_sent = False\n",
    "\n",
    "        return frame\n",
    "\n",
    "    def run_detection(self):\n",
    "        cap = cv.VideoCapture(self.capture_index)\n",
    "        assert cap.isOpened()\n",
    "        cap.set(cv.CAP_PROP_FRAME_WIDTH, 640)\n",
    "        cap.set(cv.CAP_PROP_FRAME_HEIGHT, 480)\n",
    "\n",
    "        while True:\n",
    "            start_time = time()\n",
    "            ret, frame = cap.read()\n",
    "            if not ret:\n",
    "                break\n",
    "            \n",
    "            frame = self.process_frame(frame)\n",
    "            end_time = time()\n",
    "            fps = 1 / np.round(end_time - start_time, 2)\n",
    "            cv.putText(frame, f'FPS: {int(fps)}', (20, 70), cv.FONT_HERSHEY_SIMPLEX, 1.5, (0, 255, 0), 2)\n",
    "            cv.imshow('YOLOv8 Detection', frame)\n",
    "\n",
    "            if cv.waitKey(1) & 0xFF == 27:\n",
    "                break\n",
    "\n",
    "        cap.release()\n",
    "        cv.destroyAllWindows()\n",
    "\n",
    "\n",
    "if __name__ == \"__main__\":\n",
    "    detector = ObjectDetection(capture_index=0)\n",
    "    detector.run_detection()"
   ]
  }
 ],
 "metadata": {
  "kernelspec": {
   "display_name": "Python 3",
   "language": "python",
   "name": "python3"
  },
  "language_info": {
   "codemirror_mode": {
    "name": "ipython",
    "version": 3
   },
   "file_extension": ".py",
   "mimetype": "text/x-python",
   "name": "python",
   "nbconvert_exporter": "python",
   "pygments_lexer": "ipython3",
   "version": "3.12.0"
  }
 },
 "nbformat": 4,
 "nbformat_minor": 2
}
